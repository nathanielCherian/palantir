{
 "cells": [
  {
   "cell_type": "code",
   "execution_count": 1,
   "metadata": {
    "collapsed": true
   },
   "outputs": [
    {
     "name": "stdout",
     "output_type": "stream",
     "text": [
      "train:  2020-06-01.csv\n",
      "train:  2020-06-02.csv\n",
      "train:  2020-06-03.csv\n",
      "train:  2020-06-04.csv\n",
      "train:  2020-06-05.csv\n",
      "train:  2020-06-06.csv\n",
      "train:  2020-06-07.csv\n",
      "train:  2020-06-08.csv\n",
      "train:  2020-06-09.csv\n",
      "train:  2020-06-10.csv\n",
      "train:  2020-06-11.csv\n",
      "train:  2020-06-12.csv\n",
      "train:  2020-06-13.csv\n",
      "train:  2020-06-14.csv\n",
      "train:  2020-06-15.csv\n",
      "train:  2020-06-16.csv\n",
      "train:  2020-06-17.csv\n",
      "train:  2020-06-18.csv\n",
      "train:  2020-06-19.csv\n",
      "train:  2020-06-20.csv\n",
      "test:  2020-06-21.csv\n",
      "test:  2020-06-22.csv\n",
      "test:  2020-06-23.csv\n",
      "test:  2020-06-24.csv\n",
      "test:  2020-06-25.csv\n",
      "test:  2020-06-26.csv\n",
      "test:  2020-06-27.csv\n",
      "test:  2020-06-28.csv\n",
      "test:  2020-06-29.csv\n",
      "test:  2020-06-30.csv\n"
     ]
    }
   ],
   "source": [
    "import pandas as pd\n",
    "import numpy as np\n",
    "import os\n",
    "\n",
    "headers = ['Timestamp', 'Open', 'High', 'Low', 'Close', 'Volume(BTC)', 'Volume(Currency)', 'WeightedPrice']\n",
    "train_X = pd.DataFrame(columns=headers)\n",
    "test_X = pd.DataFrame(columns=headers)\n",
    "\n",
    "for filename in os.listdir('../datasets/bitcoin-5')[:20]:\n",
    "    train_X = pd.concat([train_X, pd.read_csv(f'../datasets/bitcoin-5/{filename}', index_col=False)])\n",
    "    print(\"train: \", filename)\n",
    "    \n",
    "for filename in os.listdir('../datasets/bitcoin-5')[20:30]:\n",
    "    test_X = pd.concat([test_X, pd.read_csv(f'../datasets/bitcoin-5/{filename}', index_col=False)])\n",
    "    print(\"test: \", filename)"
   ]
  },
  {
   "cell_type": "code",
   "execution_count": 5,
   "metadata": {},
   "outputs": [],
   "source": [
    "from palantir.preprocessor import preprocess\n",
    "\n",
    "X_train, y_train = preprocess(train_X)\n",
    "X_test, y_test = preprocess(test_X)"
   ]
  },
  {
   "cell_type": "code",
   "execution_count": 8,
   "metadata": {},
   "outputs": [],
   "source": [
    "def test_clf(clf, X_train, y_train, X_test, y_test):\n",
    "    clf.fit(X_train, y_train)\n",
    "    print(\"training: \", clf.score(X_train, y_train))\n",
    "    print(\"testing: \", clf.score(X_test, y_test))"
   ]
  },
  {
   "cell_type": "code",
   "execution_count": 35,
   "metadata": {},
   "outputs": [
    {
     "name": "stdout",
     "output_type": "stream",
     "text": [
      "training:  0.8885504389894284\n",
      "testing:  0.8621330360460795\n"
     ]
    }
   ],
   "source": [
    "from sklearn.ensemble import RandomForestClassifier\n",
    "from sklearn.ensemble import ExtraTreesClassifier\n",
    "from sklearn.ensemble import AdaBoostClassifier\n",
    "from sklearn.ensemble import GradientBoostingClassifier\n",
    "\n",
    "test_clf(GradientBoostingClassifier(), X_train, y_train.classifier, X_test, y_test.classifier)"
   ]
  },
  {
   "cell_type": "code",
   "execution_count": null,
   "metadata": {},
   "outputs": [],
   "source": [
    "from sklearn.model_selection import GridSearchCV\n",
    "\n",
    "param_grid = [\n",
    "    {'bootstrap': [True, False],\n",
    " 'max_depth': [10,50,100, None],\n",
    " 'max_features': ['auto', 'sqrt'],\n",
    " 'n_estimators': [200]}\n",
    "]\n",
    "\n",
    "grid_search = GridSearchCV(RandomForestClassifier(), \n",
    "                          param_grid,\n",
    "                          cv=5,\n",
    "                          )"
   ]
  },
  {
   "cell_type": "code",
   "execution_count": null,
   "metadata": {},
   "outputs": [],
   "source": [
    "grid_search.fit(X_train, y_train.classifier)"
   ]
  },
  {
   "cell_type": "code",
   "execution_count": null,
   "metadata": {},
   "outputs": [],
   "source": [
    "grid_search.best_estimator_"
   ]
  },
  {
   "cell_type": "code",
   "execution_count": 59,
   "metadata": {},
   "outputs": [
    {
     "name": "stdout",
     "output_type": "stream",
     "text": [
      "0.8394558838157764 {'criterion': 'gini'}\n",
      "0.8401722483739407 {'criterion': 'entropy'}\n"
     ]
    }
   ],
   "source": [
    "cvres = grid_search.cv_results_\n",
    "for score, params in zip(cvres[\"mean_test_score\"], cvres[\"params\"]):\n",
    "    print(score, params)"
   ]
  },
  {
   "cell_type": "code",
   "execution_count": 82,
   "metadata": {},
   "outputs": [],
   "source": [
    "from sklearn.ensemble import VotingClassifier\n",
    "\n",
    "vc = VotingClassifier(estimators=[('rf', RandomForestClassifier()), \n",
    "                                  ('xf', ExtraTreesClassifier()),\n",
    "                                 ('af', AdaBoostClassifier())],\n",
    "    voting='hard'\n",
    ")"
   ]
  },
  {
   "cell_type": "code",
   "execution_count": 84,
   "metadata": {},
   "outputs": [
    {
     "name": "stdout",
     "output_type": "stream",
     "text": [
      "training:  1.0\n",
      "testing:  0.8636194723151245\n"
     ]
    }
   ],
   "source": [
    "test_clf(vc, X_train, y_train.classifier, X_test, y_test.classifier)"
   ]
  },
  {
   "cell_type": "code",
   "execution_count": 96,
   "metadata": {},
   "outputs": [
    {
     "name": "stdout",
     "output_type": "stream",
     "text": [
      "training:  0.9220493226195368\n",
      "testing:  0.9217207648774112\n"
     ]
    }
   ],
   "source": [
    "from sklearn.linear_model import LinearRegression, BayesianRidge\n",
    "\n",
    "test_clf(BayesianRidge(), X_train, y_train.regressor, X_test, y_test.regressor)"
   ]
  },
  {
   "cell_type": "code",
   "execution_count": null,
   "metadata": {},
   "outputs": [],
   "source": []
  },
  {
   "cell_type": "code",
   "execution_count": null,
   "metadata": {},
   "outputs": [],
   "source": []
  }
 ],
 "metadata": {
  "kernelspec": {
   "display_name": "Python 3",
   "language": "python",
   "name": "python3"
  },
  "language_info": {
   "codemirror_mode": {
    "name": "ipython",
    "version": 3
   },
   "file_extension": ".py",
   "mimetype": "text/x-python",
   "name": "python",
   "nbconvert_exporter": "python",
   "pygments_lexer": "ipython3",
   "version": "3.7.6"
  }
 },
 "nbformat": 4,
 "nbformat_minor": 4
}

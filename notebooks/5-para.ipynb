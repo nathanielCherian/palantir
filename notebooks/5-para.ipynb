{
 "cells": [
  {
   "cell_type": "code",
   "execution_count": 164,
   "metadata": {},
   "outputs": [
    {
     "name": "stdout",
     "output_type": "stream",
     "text": [
      "2020-06-01.csv\n",
      "2020-06-02.csv\n",
      "2020-06-03.csv\n",
      "2020-06-04.csv\n",
      "2020-06-05.csv\n",
      "2020-06-06.csv\n",
      "2020-06-07.csv\n",
      "2020-06-08.csv\n",
      "2020-06-09.csv\n",
      "2020-06-10.csv\n"
     ]
    }
   ],
   "source": [
    "import pandas as pd\n",
    "import numpy as np\n",
    "import os\n",
    "\n",
    "headers = ['Timestamp', 'Open', 'High', 'Low', 'Close', 'Volume(BTC)', 'Volume(Currency)', 'WeightedPrice']\n",
    "data = pd.DataFrame(columns=headers)\n",
    "\n",
    "for filename in os.listdir('../datasets/bitcoin-5')[:10]:\n",
    "    data = pd.concat([data, pd.read_csv(f'../datasets/bitcoin-5/{filename}', index_col=False)])\n",
    "    print(filename)\n",
    "    \n",
    "data['Change'] = data['Open'] - data['Close']\n",
    "data['PerChange'] = (data['Open'] - data['Close'])/data['WeightedPrice']\n",
    "\n",
    "changes = np.round(np.array(data['PerChange']), 4)\n",
    "\n",
    "def split_sequence(seq, n_steps_in, n_steps_out):\n",
    "    \"\"\"\n",
    "    Splits the univariate time sequence\n",
    "    \"\"\"\n",
    "    X, y = [], []\n",
    "    \n",
    "    for i in range(len(seq)):\n",
    "        end = i + n_steps_in\n",
    "        out_end = end + n_steps_out\n",
    "        \n",
    "        if out_end > len(seq):\n",
    "            break\n",
    "        \n",
    "        seq_x, seq_y = seq[i:end], seq[end:out_end]\n",
    "        \n",
    "        X.append(seq_x)\n",
    "        y.append(seq_y)\n",
    "    \n",
    "    return np.array(X), np.array(y)\n",
    "\n",
    "IN = 15\n",
    "OUT = 1\n",
    "\n",
    "X, y = split_sequence(changes, IN, OUT)"
   ]
  },
  {
   "cell_type": "code",
   "execution_count": 11,
   "metadata": {},
   "outputs": [],
   "source": [
    "def find_similar(X, y):\n",
    "    \n",
    "    sims = {}\n",
    "    \n",
    "    for i in range(int(len(X))):\n",
    "        \n",
    "        pX = np.delete(X, i, axis=0)\n",
    "        pY = np.delete(y, i, axis=0)\n",
    "                   \n",
    "        new = [X[i] * -1 for x in range(len(pX))]\n",
    "\n",
    "        summed = np.sum(pX + new, axis=1)\n",
    "        \n",
    "        if len(pY[summed == 0]) > 0:\n",
    "                   \n",
    "            sims.update({i: ((sum(pY[summed == 0]) + y[i])/len(pY[summed == 0]), len(pY[summed == 0]))}) \n",
    "            \n",
    "            \n",
    "        if i % 100 is 0:\n",
    "            print(i)\n",
    "            \n",
    "    return sims"
   ]
  },
  {
   "cell_type": "code",
   "execution_count": 12,
   "metadata": {
    "scrolled": true
   },
   "outputs": [
    {
     "name": "stdout",
     "output_type": "stream",
     "text": [
      "0\n",
      "100\n",
      "200\n",
      "300\n",
      "400\n",
      "500\n",
      "600\n",
      "700\n",
      "800\n",
      "900\n",
      "1000\n",
      "1100\n",
      "1200\n",
      "1300\n",
      "1400\n",
      "1500\n",
      "1600\n",
      "1700\n",
      "1800\n",
      "1900\n",
      "2000\n",
      "2100\n",
      "2200\n",
      "2300\n",
      "2400\n",
      "2500\n",
      "2600\n",
      "2700\n",
      "2800\n"
     ]
    }
   ],
   "source": [
    "s = find_similar(X, y)"
   ]
  },
  {
   "cell_type": "code",
   "execution_count": 13,
   "metadata": {},
   "outputs": [
    {
     "name": "stdout",
     "output_type": "stream",
     "text": [
      "count    2.433000e+03\n",
      "mean     3.173767e-05\n",
      "std      1.830839e-03\n",
      "min     -6.000000e-03\n",
      "25%     -4.000000e-04\n",
      "50%     -2.032879e-20\n",
      "75%      4.000000e-04\n",
      "max      6.350000e-02\n",
      "dtype: float64\n"
     ]
    },
    {
     "data": {
      "text/plain": [
       "<matplotlib.axes._subplots.AxesSubplot at 0x15a00a1c488>"
      ]
     },
     "execution_count": 13,
     "metadata": {},
     "output_type": "execute_result"
    },
    {
     "data": {
      "image/png": "[encoded data removed]",
      "text/plain": [
       "<Figure size 432x288 with 1 Axes>"
      ]
     },
     "metadata": {
      "needs_background": "light"
     },
     "output_type": "display_data"
    }
   ],
   "source": [
    "import matplotlib.pyplot as plt\n",
    "import seaborn as sns\n",
    "\n",
    "vals = [s[0][0] for s in s.values()]\n",
    "nums = [s[1] for s in s.values()]\n",
    "print(pd.Series(vals).describe())\n",
    "\n",
    "plt.ylim(-0.003, 0.003)\n",
    "sns.scatterplot(x=nums, y=vals)"
   ]
  },
  {
   "cell_type": "code",
   "execution_count": 112,
   "metadata": {},
   "outputs": [],
   "source": [
    "def predict(X, y, new):\n",
    "    \n",
    "    summed = np.sum(X + new, axis=1)\n",
    "    \n",
    "    \n",
    "    return y[np.round(summed, 5) == 0].mean()\n",
    "    "
   ]
  },
  {
   "cell_type": "code",
   "execution_count": 116,
   "metadata": {},
   "outputs": [
    {
     "name": "stdout",
     "output_type": "stream",
     "text": [
      "Wall time: 972 µs\n"
     ]
    },
    {
     "data": {
      "text/plain": [
       "3.5714285714285703e-05"
      ]
     },
     "execution_count": 116,
     "metadata": {},
     "output_type": "execute_result"
    }
   ],
   "source": [
    "%%time\n",
    "predict(X*-1, y, X[10])"
   ]
  },
  {
   "cell_type": "code",
   "execution_count": 83,
   "metadata": {},
   "outputs": [
    {
     "data": {
      "text/plain": [
       "0.44869565217391305"
      ]
     },
     "execution_count": 83,
     "metadata": {},
     "output_type": "execute_result"
    }
   ],
   "source": [
    "len(y[y < 0])/len(y)"
   ]
  },
  {
   "cell_type": "markdown",
   "metadata": {},
   "source": [
    "# Fresh Data"
   ]
  },
  {
   "cell_type": "code",
   "execution_count": 123,
   "metadata": {},
   "outputs": [
    {
     "name": "stdout",
     "output_type": "stream",
     "text": [
      "2020-06-11.csv\n",
      "2020-06-12.csv\n",
      "2020-06-13.csv\n",
      "2020-06-14.csv\n",
      "2020-06-15.csv\n"
     ]
    }
   ],
   "source": [
    "new_data = pd.DataFrame(columns=headers)\n",
    "\n",
    "for filename in os.listdir('../datasets/bitcoin-5')[10:15]:\n",
    "    new_data = pd.concat([new_data, pd.read_csv(f'../datasets/bitcoin-5/{filename}', index_col=False)])\n",
    "    print(filename)\n",
    "    \n",
    "new_data['PerChange'] = (new_data['Open'] - new_data['Close'])/new_data['WeightedPrice']\n",
    "new_changes = np.round(np.array(new_data['PerChange']), 4)\n",
    "new_X, new_y = split_sequence(new_changes, IN, OUT)"
   ]
  },
  {
   "cell_type": "code",
   "execution_count": 133,
   "metadata": {},
   "outputs": [
    {
     "data": {
      "text/plain": [
       "5e-05"
      ]
     },
     "execution_count": 133,
     "metadata": {},
     "output_type": "execute_result"
    }
   ],
   "source": [
    "predict(X*-1, y, new_X[2])"
   ]
  },
  {
   "cell_type": "code",
   "execution_count": 135,
   "metadata": {},
   "outputs": [
    {
     "name": "stderr",
     "output_type": "stream",
     "text": [
      "Z:\\anaconda\\envs\\btc\\lib\\site-packages\\ipykernel_launcher.py:6: RuntimeWarning: Mean of empty slice.\n",
      "  \n"
     ]
    }
   ],
   "source": [
    "new_predictions = [predict(X*-1, y, x) for x in new_X]"
   ]
  },
  {
   "cell_type": "code",
   "execution_count": 157,
   "metadata": {},
   "outputs": [
    {
     "data": {
      "text/plain": [
       "2.5573843410527533e-06"
      ]
     },
     "execution_count": 157,
     "metadata": {},
     "output_type": "execute_result"
    }
   ],
   "source": [
    "from sklearn.metrics import mean_squared_error\n",
    "\n",
    "mean_squared_error(new_y.reshape(1, -1)[0], np.nan_to_num(new_predictions))"
   ]
  },
  {
   "cell_type": "code",
   "execution_count": 137,
   "metadata": {},
   "outputs": [
    {
     "data": {
      "text/plain": [
       "1430"
      ]
     },
     "execution_count": 137,
     "metadata": {},
     "output_type": "execute_result"
    }
   ],
   "source": [
    "len(new_predictions)"
   ]
  },
  {
   "cell_type": "markdown",
   "metadata": {},
   "source": [
    "# Simulation"
   ]
  },
  {
   "cell_type": "code",
   "execution_count": 277,
   "metadata": {},
   "outputs": [],
   "source": [
    "from btcgame import Game, Predictor\n",
    "\n",
    "class MyPredictor(Predictor):\n",
    "    \n",
    "    def predict_engine(self, pasts, data):\n",
    "        \n",
    "        percent = np.nan_to_num(predict(X*-1, y, np.array(pasts)[:, 1]))\n",
    "        \n",
    "        sign = 1\n",
    "        if percent < 0:\n",
    "            sign = -1\n",
    "        \n",
    "        else:\n",
    "            sign=0\n",
    "        \n",
    "        \n",
    "        return (sign, abs(percent)*70)\n",
    "    "
   ]
  },
  {
   "cell_type": "code",
   "execution_count": 278,
   "metadata": {},
   "outputs": [],
   "source": [
    "game = Game(pd.concat([pd.DataFrame(new_data['WeightedPrice']), pd.DataFrame(new_data['PerChange'])], axis=1), \n",
    "            MyPredictor(preceding=len(new_X[0])), cash=0)"
   ]
  },
  {
   "cell_type": "code",
   "execution_count": 279,
   "metadata": {
    "scrolled": true
   },
   "outputs": [
    {
     "name": "stderr",
     "output_type": "stream",
     "text": [
      "Z:\\anaconda\\envs\\btc\\lib\\site-packages\\ipykernel_launcher.py:6: RuntimeWarning: Mean of empty slice.\n",
      "  \n",
      "Z:\\anaconda\\envs\\btc\\lib\\site-packages\\numpy\\core\\_methods.py:161: RuntimeWarning: invalid value encountered in double_scalars\n",
      "  ret = ret.dtype.type(ret / rcount)\n"
     ]
    },
    {
     "data": {
      "text/html": [
       "<div>\n",
       "<style scoped>\n",
       "    .dataframe tbody tr th:only-of-type {\n",
       "        vertical-align: middle;\n",
       "    }\n",
       "\n",
       "    .dataframe tbody tr th {\n",
       "        vertical-align: top;\n",
       "    }\n",
       "\n",
       "    .dataframe thead th {\n",
       "        text-align: right;\n",
       "    }\n",
       "</style>\n",
       "<table border=\"1\" class=\"dataframe\">\n",
       "  <thead>\n",
       "    <tr style=\"text-align: right;\">\n",
       "      <th></th>\n",
       "      <th>Price</th>\n",
       "      <th>Action</th>\n",
       "      <th>Trade</th>\n",
       "      <th>Cash($)</th>\n",
       "      <th>Holding(BTC)</th>\n",
       "      <th>Capital($)</th>\n",
       "      <th>Capped</th>\n",
       "    </tr>\n",
       "  </thead>\n",
       "  <tbody>\n",
       "    <tr>\n",
       "      <th>0</th>\n",
       "      <td>9771.408589</td>\n",
       "      <td>0.0</td>\n",
       "      <td>0.0</td>\n",
       "      <td>0.00000</td>\n",
       "      <td>1.0</td>\n",
       "      <td>9771.408589</td>\n",
       "      <td>0</td>\n",
       "    </tr>\n",
       "    <tr>\n",
       "      <th>1</th>\n",
       "      <td>9774.063775</td>\n",
       "      <td>0.0</td>\n",
       "      <td>0.0</td>\n",
       "      <td>0.00000</td>\n",
       "      <td>1.0</td>\n",
       "      <td>9774.063775</td>\n",
       "      <td>0</td>\n",
       "    </tr>\n",
       "    <tr>\n",
       "      <th>2</th>\n",
       "      <td>9773.849735</td>\n",
       "      <td>0.0</td>\n",
       "      <td>0.0</td>\n",
       "      <td>0.00000</td>\n",
       "      <td>1.0</td>\n",
       "      <td>9773.849735</td>\n",
       "      <td>0</td>\n",
       "    </tr>\n",
       "    <tr>\n",
       "      <th>3</th>\n",
       "      <td>9772.434807</td>\n",
       "      <td>0.0</td>\n",
       "      <td>0.0</td>\n",
       "      <td>0.00000</td>\n",
       "      <td>1.0</td>\n",
       "      <td>9772.434807</td>\n",
       "      <td>0</td>\n",
       "    </tr>\n",
       "    <tr>\n",
       "      <th>4</th>\n",
       "      <td>9773.019790</td>\n",
       "      <td>0.0</td>\n",
       "      <td>0.0</td>\n",
       "      <td>0.00000</td>\n",
       "      <td>1.0</td>\n",
       "      <td>9773.019790</td>\n",
       "      <td>0</td>\n",
       "    </tr>\n",
       "    <tr>\n",
       "      <th>...</th>\n",
       "      <td>...</td>\n",
       "      <td>...</td>\n",
       "      <td>...</td>\n",
       "      <td>...</td>\n",
       "      <td>...</td>\n",
       "      <td>...</td>\n",
       "      <td>...</td>\n",
       "    </tr>\n",
       "    <tr>\n",
       "      <th>1440</th>\n",
       "      <td>9350.585200</td>\n",
       "      <td>0.0</td>\n",
       "      <td>0.0</td>\n",
       "      <td>9616.86409</td>\n",
       "      <td>0.0</td>\n",
       "      <td>9616.864090</td>\n",
       "      <td>0</td>\n",
       "    </tr>\n",
       "    <tr>\n",
       "      <th>1441</th>\n",
       "      <td>9346.150634</td>\n",
       "      <td>0.0</td>\n",
       "      <td>0.0</td>\n",
       "      <td>9616.86409</td>\n",
       "      <td>0.0</td>\n",
       "      <td>9616.864090</td>\n",
       "      <td>0</td>\n",
       "    </tr>\n",
       "    <tr>\n",
       "      <th>1442</th>\n",
       "      <td>9333.968562</td>\n",
       "      <td>0.0</td>\n",
       "      <td>0.0</td>\n",
       "      <td>9616.86409</td>\n",
       "      <td>0.0</td>\n",
       "      <td>9616.864090</td>\n",
       "      <td>0</td>\n",
       "    </tr>\n",
       "    <tr>\n",
       "      <th>1443</th>\n",
       "      <td>9332.153565</td>\n",
       "      <td>0.0</td>\n",
       "      <td>0.0</td>\n",
       "      <td>9616.86409</td>\n",
       "      <td>0.0</td>\n",
       "      <td>9616.864090</td>\n",
       "      <td>0</td>\n",
       "    </tr>\n",
       "    <tr>\n",
       "      <th>1444</th>\n",
       "      <td>9318.152860</td>\n",
       "      <td>0.0</td>\n",
       "      <td>0.0</td>\n",
       "      <td>9616.86409</td>\n",
       "      <td>0.0</td>\n",
       "      <td>9616.864090</td>\n",
       "      <td>0</td>\n",
       "    </tr>\n",
       "  </tbody>\n",
       "</table>\n",
       "<p>1445 rows × 7 columns</p>\n",
       "</div>"
      ],
      "text/plain": [
       "            Price  Action  Trade     Cash($)  Holding(BTC)   Capital($) Capped\n",
       "0     9771.408589     0.0    0.0     0.00000           1.0  9771.408589      0\n",
       "1     9774.063775     0.0    0.0     0.00000           1.0  9774.063775      0\n",
       "2     9773.849735     0.0    0.0     0.00000           1.0  9773.849735      0\n",
       "3     9772.434807     0.0    0.0     0.00000           1.0  9772.434807      0\n",
       "4     9773.019790     0.0    0.0     0.00000           1.0  9773.019790      0\n",
       "...           ...     ...    ...         ...           ...          ...    ...\n",
       "1440  9350.585200     0.0    0.0  9616.86409           0.0  9616.864090      0\n",
       "1441  9346.150634     0.0    0.0  9616.86409           0.0  9616.864090      0\n",
       "1442  9333.968562     0.0    0.0  9616.86409           0.0  9616.864090      0\n",
       "1443  9332.153565     0.0    0.0  9616.86409           0.0  9616.864090      0\n",
       "1444  9318.152860     0.0    0.0  9616.86409           0.0  9616.864090      0\n",
       "\n",
       "[1445 rows x 7 columns]"
      ]
     },
     "execution_count": 279,
     "metadata": {},
     "output_type": "execute_result"
    }
   ],
   "source": [
    "game.play()"
   ]
  },
  {
   "cell_type": "code",
   "execution_count": 280,
   "metadata": {},
   "outputs": [
    {
     "data": {
      "text/plain": [
       "<matplotlib.axes._subplots.AxesSubplot at 0x15a04e8d608>"
      ]
     },
     "execution_count": 280,
     "metadata": {},
     "output_type": "execute_result"
    },
    {
     "data": {
      "image/png": "[encoded data removed]",
      "text/plain": [
       "<Figure size 1080x360 with 1 Axes>"
      ]
     },
     "metadata": {
      "needs_background": "light"
     },
     "output_type": "display_data"
    }
   ],
   "source": [
    "import matplotlib.pyplot as plt\n",
    "import seaborn as sns\n",
    "\n",
    "fig, ax = plt.subplots(figsize=(15,5))\n",
    "\n",
    "sns.lineplot(x=range(len(game.history)), y=game.history['Capital($)'], ax=ax)\n",
    "sns.lineplot(x=range(len(game.history)), y=game.history['Price'], ax=ax)\n"
   ]
  },
  {
   "cell_type": "code",
   "execution_count": 281,
   "metadata": {},
   "outputs": [
    {
     "data": {
      "text/plain": [
       "<matplotlib.axes._subplots.AxesSubplot at 0x15a04ee7bc8>"
      ]
     },
     "execution_count": 281,
     "metadata": {},
     "output_type": "execute_result"
    },
    {
     "data": {
      "image/png": "[encoded data removed]",
      "text/plain": [
       "<Figure size 432x288 with 1 Axes>"
      ]
     },
     "metadata": {
      "needs_background": "light"
     },
     "output_type": "display_data"
    }
   ],
   "source": [
    "sns.scatterplot(x=game.history[game.history['Action'] != 0].index, y=game.history[game.history['Action'] != 0]['Price'], hue=game.history[game.history['Action'] != 0]['Trade'])"
   ]
  },
  {
   "cell_type": "code",
   "execution_count": 263,
   "metadata": {},
   "outputs": [
    {
     "data": {
      "text/plain": [
       "15      0.015000\n",
       "32      0.020000\n",
       "39      0.020000\n",
       "150     0.003276\n",
       "167     0.000556\n",
       "          ...   \n",
       "1409    0.002895\n",
       "1410    0.002292\n",
       "1412    0.006923\n",
       "1435    0.007708\n",
       "1439    0.132500\n",
       "Name: Trade, Length: 74, dtype: float64"
      ]
     },
     "execution_count": 263,
     "metadata": {},
     "output_type": "execute_result"
    }
   ],
   "source": [
    "game.history[game.history['Action'] != 0]['Trade']"
   ]
  },
  {
   "cell_type": "code",
   "execution_count": null,
   "metadata": {},
   "outputs": [],
   "source": []
  }
 ],
 "metadata": {
  "kernelspec": {
   "display_name": "Python 3",
   "language": "python",
   "name": "python3"
  },
  "language_info": {
   "codemirror_mode": {
    "name": "ipython",
    "version": 3
   },
   "file_extension": ".py",
   "mimetype": "text/x-python",
   "name": "python",
   "nbconvert_exporter": "python",
   "pygments_lexer": "ipython3",
   "version": "3.7.6"
  }
 },
 "nbformat": 4,
 "nbformat_minor": 4
}

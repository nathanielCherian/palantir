{
 "cells": [
  {
   "cell_type": "code",
   "execution_count": 50,
   "metadata": {},
   "outputs": [
    {
     "name": "stdout",
     "output_type": "stream",
     "text": [
      "2020-06-01.csv\n",
      "2020-06-02.csv\n",
      "2020-06-03.csv\n",
      "2020-06-04.csv\n",
      "2020-06-05.csv\n",
      "2020-06-06.csv\n",
      "2020-06-07.csv\n",
      "2020-06-08.csv\n",
      "2020-06-09.csv\n",
      "2020-06-10.csv\n"
     ]
    }
   ],
   "source": [
    "import pandas as pd\n",
    "import numpy as np\n",
    "import os\n",
    "\n",
    "headers = ['Timestamp', 'Open', 'High', 'Low', 'Close', 'Volume(BTC)', 'Volume(Currency)', 'WeightedPrice']\n",
    "data = pd.DataFrame(columns=headers)\n",
    "\n",
    "for filename in os.listdir('../datasets/bitcoin-5')[:10]:\n",
    "    data = pd.concat([data, pd.read_csv(f'../datasets/bitcoin-5/{filename}', index_col=False)])\n",
    "    print(filename)\n",
    "    \n",
    "data['Change'] = data['Open'] - data['Close']\n",
    "data['PerChange'] = (data['Open'] - data['Close'])/data['WeightedPrice']\n",
    "\n",
    "changes = np.round(np.array(data['PerChange']), 4)\n",
    "\n",
    "def split_sequence(seq, n_steps_in, n_steps_out):\n",
    "    \"\"\"\n",
    "    Splits the univariate time sequence\n",
    "    \"\"\"\n",
    "    X, y = [], []\n",
    "    \n",
    "    for i in range(len(seq)):\n",
    "        end = i + n_steps_in\n",
    "        out_end = end + n_steps_out\n",
    "        \n",
    "        if out_end > len(seq):\n",
    "            break\n",
    "        \n",
    "        seq_x, seq_y = seq[i:end], seq[end:out_end]\n",
    "        \n",
    "        X.append(seq_x)\n",
    "        y.append(seq_y)\n",
    "    \n",
    "    return np.array(X), np.array(y)\n",
    "\n",
    "IN = 15\n",
    "OUT = 1\n",
    "\n",
    "X, y = split_sequence(changes, IN, OUT)"
   ]
  },
  {
   "cell_type": "code",
   "execution_count": 51,
   "metadata": {},
   "outputs": [],
   "source": [
    "def find_similar(X, y):\n",
    "    \n",
    "    sims = {}\n",
    "    \n",
    "    for i in range(int(len(X)/5)):\n",
    "        \n",
    "        pX = np.delete(X, i, axis=0)\n",
    "        pY = np.delete(y, i, axis=0)\n",
    "                   \n",
    "        new = [X[i] * -1 for x in range(len(pX))]\n",
    "\n",
    "        summed = np.sum(pX + new, axis=1)\n",
    "        \n",
    "        if len(pY[summed == 0]) > 0:\n",
    "                   \n",
    "            sims.update({i: ((sum(pY[summed == 0]) + y[i])/len(pY[summed == 0]), len(pY[summed == 0]))}) \n",
    "            \n",
    "            \n",
    "        if i % 100 is 0:\n",
    "            print(i)\n",
    "            \n",
    "    return sims"
   ]
  },
  {
   "cell_type": "code",
   "execution_count": 52,
   "metadata": {},
   "outputs": [
    {
     "name": "stdout",
     "output_type": "stream",
     "text": [
      "0\n",
      "100\n",
      "200\n",
      "300\n",
      "400\n",
      "500\n"
     ]
    }
   ],
   "source": [
    "s = find_similar(X, y)"
   ]
  },
  {
   "cell_type": "code",
   "execution_count": 53,
   "metadata": {},
   "outputs": [
    {
     "name": "stdout",
     "output_type": "stream",
     "text": [
      "count    482.000000\n",
      "mean       0.000042\n",
      "std        0.001857\n",
      "min       -0.006000\n",
      "25%       -0.000430\n",
      "50%        0.000000\n",
      "75%        0.000400\n",
      "max        0.031750\n",
      "dtype: float64\n"
     ]
    },
    {
     "data": {
      "text/plain": [
       "<matplotlib.axes._subplots.AxesSubplot at 0x17147377b48>"
      ]
     },
     "execution_count": 53,
     "metadata": {},
     "output_type": "execute_result"
    },
    {
     "data": {
      "image/png": "[encoded data removed]",
      "text/plain": [
       "<Figure size 432x288 with 1 Axes>"
      ]
     },
     "metadata": {
      "needs_background": "light"
     },
     "output_type": "display_data"
    }
   ],
   "source": [
    "import matplotlib.pyplot as plt\n",
    "import seaborn as sns\n",
    "\n",
    "vals = [s[0][0] for s in s.values()]\n",
    "nums = [s[1] for s in s.values()]\n",
    "print(pd.Series(vals).describe())\n",
    "\n",
    "plt.ylim(-0.003, 0.003)\n",
    "sns.scatterplot(x=nums, y=vals)"
   ]
  },
  {
   "cell_type": "code",
   "execution_count": 37,
   "metadata": {},
   "outputs": [
    {
     "data": {
      "text/plain": [
       "array([[1590883200, 9699.9, 9700.0, ..., 9689.78128584571,\n",
       "        24.100000000000364, 0.0024871562411015713],\n",
       "       [1590883500, 9673.3, 9683.6, ..., 9674.250491678158,\n",
       "        6.599999999998545, 0.0006822233934996721],\n",
       "       [1590883800, 9664.6, 9679.0, ..., 9666.409296915699,\n",
       "        10.600000000000364, 0.0010965809200095167],\n",
       "       ...,\n",
       "       [1591746600, 9775.5, 9775.8, ..., 9770.745854014549, 10.5,\n",
       "        0.001074636487007368],\n",
       "       [1591746900, 9763.4, 9778.0, ..., 9772.351492516837,\n",
       "        -14.600000000000364, -0.0014940109359738332],\n",
       "       [1591747200, 9778.0, 9779.6, ..., 9771.408589021272,\n",
       "        10.799999999999272, 0.0011052654181438776]], dtype=object)"
      ]
     },
     "execution_count": 37,
     "metadata": {},
     "output_type": "execute_result"
    }
   ],
   "source": [
    "np.array(data)"
   ]
  },
  {
   "cell_type": "code",
   "execution_count": null,
   "metadata": {},
   "outputs": [],
   "source": []
  },
  {
   "cell_type": "code",
   "execution_count": null,
   "metadata": {},
   "outputs": [],
   "source": []
  },
  {
   "cell_type": "code",
   "execution_count": null,
   "metadata": {},
   "outputs": [],
   "source": []
  }
 ],
 "metadata": {
  "kernelspec": {
   "display_name": "Python 3",
   "language": "python",
   "name": "python3"
  },
  "language_info": {
   "codemirror_mode": {
    "name": "ipython",
    "version": 3
   },
   "file_extension": ".py",
   "mimetype": "text/x-python",
   "name": "python",
   "nbconvert_exporter": "python",
   "pygments_lexer": "ipython3",
   "version": "3.7.6"
  }
 },
 "nbformat": 4,
 "nbformat_minor": 4
}

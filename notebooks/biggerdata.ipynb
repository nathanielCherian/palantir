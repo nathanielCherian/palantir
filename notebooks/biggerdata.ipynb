{
 "cells": [
  {
   "cell_type": "code",
   "execution_count": 1,
   "metadata": {},
   "outputs": [
    {
     "name": "stdout",
     "output_type": "stream",
     "text": [
      "2020-07-20.csv\n",
      "2020-07-21.csv\n",
      "2020-07-22.csv\n",
      "2020-07-23.csv\n",
      "2020-07-24.csv\n",
      "2020-07-25.csv\n",
      "2020-07-26.csv\n",
      "2020-07-27.csv\n",
      "2020-07-28.csv\n",
      "2020-07-29.csv\n"
     ]
    }
   ],
   "source": [
    "import pandas as pd\n",
    "import numpy as np\n",
    "import os\n",
    "\n",
    "headers = ['Timestamp', 'Open', 'High', 'Low', 'Close', 'Volume(BTC)', 'Volume(Currency)', 'WeightedPrice']\n",
    "data = pd.DataFrame(columns=headers)\n",
    "\n",
    "for filename in os.listdir('../datasets/bitcoin-1'):\n",
    "    data = pd.concat([data, pd.read_csv(f'../datasets/bitcoin-1/{filename}', index_col=False)])\n",
    "    print(filename)\n",
    "    \n",
    "data['Change'] = data['Open'] - data['Close']\n",
    "data['PerChange'] = (data['Open'] - data['Close'])/data['WeightedPrice']"
   ]
  },
  {
   "cell_type": "code",
   "execution_count": 2,
   "metadata": {},
   "outputs": [],
   "source": [
    "def split_sequence(seq, n_steps_in, n_steps_out):\n",
    "    \"\"\"\n",
    "    Splits the univariate time sequence\n",
    "    \"\"\"\n",
    "    X, y = [], []\n",
    "    \n",
    "    for i in range(len(seq)):\n",
    "        end = i + n_steps_in\n",
    "        out_end = end + n_steps_out\n",
    "        \n",
    "        if out_end > len(seq):\n",
    "            break\n",
    "        \n",
    "        seq_x, seq_y = seq[i:end], seq[end:out_end]\n",
    "        \n",
    "        X.append(seq_x)\n",
    "        y.append(seq_y)\n",
    "    \n",
    "    return np.array(X), np.array(y)"
   ]
  },
  {
   "cell_type": "code",
   "execution_count": 3,
   "metadata": {},
   "outputs": [],
   "source": [
    "from sklearn.preprocessing import StandardScaler\n",
    "\n",
    "changes = StandardScaler().fit_transform(pd.DataFrame(data['PerChange']))\n",
    "d = split_sequence(changes, 10, 1)\n",
    "\n",
    "X = d[0].reshape(-1, 10)\n",
    "y = d[1].reshape(-1, 1)"
   ]
  },
  {
   "cell_type": "code",
   "execution_count": 33,
   "metadata": {},
   "outputs": [],
   "source": [
    "from sklearn.model_selection import train_test_split\n",
    "\n",
    "X_train, X_test, y_train, y_test = train_test_split(X, y, test_size=0.2)"
   ]
  },
  {
   "cell_type": "code",
   "execution_count": 35,
   "metadata": {},
   "outputs": [],
   "source": [
    "from tensorflow.keras.models import Sequential\n",
    "from tensorflow.keras.layers import LSTM, Dense, Dropout\n",
    "from tensorflow.keras.layers import Bidirectional\n",
    "\n",
    "model = Sequential()\n",
    "model.add(Dense(100, activation='relu', input_shape=(10,)))\n",
    "model.add(Dense(150, activation='relu'))\n",
    "model.add(Dense(50, activation='relu'))\n",
    "model.add(Dense(1))"
   ]
  },
  {
   "cell_type": "code",
   "execution_count": 36,
   "metadata": {},
   "outputs": [],
   "source": [
    "model.compile(loss='mean_absolute_error',\n",
    "              optimizer='adam',\n",
    "              metrics=['mean_absolute_error'])"
   ]
  },
  {
   "cell_type": "code",
   "execution_count": 37,
   "metadata": {
    "scrolled": false
   },
   "outputs": [
    {
     "name": "stdout",
     "output_type": "stream",
     "text": [
      "Epoch 1/60\n",
      "360/360 [==============================] - 0s 1ms/step - loss: 0.3721 - mean_absolute_error: 0.3721 - val_loss: 0.3523 - val_mean_absolute_error: 0.3523\n",
      "Epoch 2/60\n",
      "360/360 [==============================] - 0s 747us/step - loss: 0.3654 - mean_absolute_error: 0.3654 - val_loss: 0.3503 - val_mean_absolute_error: 0.3503\n",
      "Epoch 3/60\n",
      "360/360 [==============================] - 0s 719us/step - loss: 0.3626 - mean_absolute_error: 0.3626 - val_loss: 0.3493 - val_mean_absolute_error: 0.3493\n",
      "Epoch 4/60\n",
      "360/360 [==============================] - 0s 708us/step - loss: 0.3613 - mean_absolute_error: 0.3613 - val_loss: 0.3499 - val_mean_absolute_error: 0.3499\n",
      "Epoch 5/60\n",
      "360/360 [==============================] - 0s 700us/step - loss: 0.3602 - mean_absolute_error: 0.3602 - val_loss: 0.3500 - val_mean_absolute_error: 0.3500\n",
      "Epoch 6/60\n",
      "360/360 [==============================] - 0s 719us/step - loss: 0.3582 - mean_absolute_error: 0.3582 - val_loss: 0.3541 - val_mean_absolute_error: 0.3541\n",
      "Epoch 7/60\n",
      "360/360 [==============================] - 0s 717us/step - loss: 0.3554 - mean_absolute_error: 0.3554 - val_loss: 0.3508 - val_mean_absolute_error: 0.3508\n",
      "Epoch 8/60\n",
      "360/360 [==============================] - 0s 711us/step - loss: 0.3546 - mean_absolute_error: 0.3546 - val_loss: 0.3500 - val_mean_absolute_error: 0.3500\n",
      "Epoch 9/60\n",
      "360/360 [==============================] - 0s 728us/step - loss: 0.3527 - mean_absolute_error: 0.3527 - val_loss: 0.3558 - val_mean_absolute_error: 0.3558\n",
      "Epoch 10/60\n",
      "360/360 [==============================] - 0s 722us/step - loss: 0.3494 - mean_absolute_error: 0.3494 - val_loss: 0.3575 - val_mean_absolute_error: 0.3575\n",
      "Epoch 11/60\n",
      "360/360 [==============================] - 0s 711us/step - loss: 0.3467 - mean_absolute_error: 0.3467 - val_loss: 0.3551 - val_mean_absolute_error: 0.3551\n",
      "Epoch 12/60\n",
      "360/360 [==============================] - 0s 711us/step - loss: 0.3462 - mean_absolute_error: 0.3462 - val_loss: 0.3528 - val_mean_absolute_error: 0.3528\n",
      "Epoch 13/60\n",
      "360/360 [==============================] - 0s 714us/step - loss: 0.3424 - mean_absolute_error: 0.3424 - val_loss: 0.3559 - val_mean_absolute_error: 0.3559\n",
      "Epoch 14/60\n",
      "360/360 [==============================] - 0s 708us/step - loss: 0.3393 - mean_absolute_error: 0.3393 - val_loss: 0.3538 - val_mean_absolute_error: 0.3538\n",
      "Epoch 15/60\n",
      "360/360 [==============================] - 0s 689us/step - loss: 0.3383 - mean_absolute_error: 0.3383 - val_loss: 0.3564 - val_mean_absolute_error: 0.3564\n",
      "Epoch 16/60\n",
      "360/360 [==============================] - 0s 706us/step - loss: 0.3360 - mean_absolute_error: 0.3360 - val_loss: 0.3534 - val_mean_absolute_error: 0.3534\n",
      "Epoch 17/60\n",
      "360/360 [==============================] - 0s 708us/step - loss: 0.3363 - mean_absolute_error: 0.3363 - val_loss: 0.3504 - val_mean_absolute_error: 0.3504\n",
      "Epoch 18/60\n",
      "360/360 [==============================] - 0s 731us/step - loss: 0.3319 - mean_absolute_error: 0.3319 - val_loss: 0.3543 - val_mean_absolute_error: 0.3543\n",
      "Epoch 19/60\n",
      "360/360 [==============================] - 0s 703us/step - loss: 0.3289 - mean_absolute_error: 0.3289 - val_loss: 0.3512 - val_mean_absolute_error: 0.3512\n",
      "Epoch 20/60\n",
      "360/360 [==============================] - 0s 733us/step - loss: 0.3275 - mean_absolute_error: 0.3275 - val_loss: 0.3533 - val_mean_absolute_error: 0.3533\n",
      "Epoch 21/60\n",
      "360/360 [==============================] - 0s 703us/step - loss: 0.3264 - mean_absolute_error: 0.3264 - val_loss: 0.3519 - val_mean_absolute_error: 0.3519\n",
      "Epoch 22/60\n",
      "360/360 [==============================] - 0s 708us/step - loss: 0.3213 - mean_absolute_error: 0.3213 - val_loss: 0.3561 - val_mean_absolute_error: 0.3561\n",
      "Epoch 23/60\n",
      "360/360 [==============================] - 0s 714us/step - loss: 0.3227 - mean_absolute_error: 0.3227 - val_loss: 0.3575 - val_mean_absolute_error: 0.3575\n",
      "Epoch 24/60\n",
      "360/360 [==============================] - 0s 692us/step - loss: 0.3181 - mean_absolute_error: 0.3181 - val_loss: 0.3618 - val_mean_absolute_error: 0.3618\n",
      "Epoch 25/60\n",
      "360/360 [==============================] - 0s 706us/step - loss: 0.3160 - mean_absolute_error: 0.3160 - val_loss: 0.3622 - val_mean_absolute_error: 0.3622\n",
      "Epoch 26/60\n",
      "360/360 [==============================] - 0s 711us/step - loss: 0.3157 - mean_absolute_error: 0.3157 - val_loss: 0.3602 - val_mean_absolute_error: 0.3602\n",
      "Epoch 27/60\n",
      "360/360 [==============================] - 0s 703us/step - loss: 0.3139 - mean_absolute_error: 0.3139 - val_loss: 0.3620 - val_mean_absolute_error: 0.3620\n",
      "Epoch 28/60\n",
      "360/360 [==============================] - 0s 703us/step - loss: 0.3111 - mean_absolute_error: 0.3111 - val_loss: 0.3647 - val_mean_absolute_error: 0.3647\n",
      "Epoch 29/60\n",
      "360/360 [==============================] - 0s 736us/step - loss: 0.3114 - mean_absolute_error: 0.3114 - val_loss: 0.3614 - val_mean_absolute_error: 0.3614\n",
      "Epoch 30/60\n",
      "360/360 [==============================] - 0s 733us/step - loss: 0.3081 - mean_absolute_error: 0.3081 - val_loss: 0.3575 - val_mean_absolute_error: 0.3575\n",
      "Epoch 31/60\n",
      "360/360 [==============================] - 0s 714us/step - loss: 0.3073 - mean_absolute_error: 0.3073 - val_loss: 0.3724 - val_mean_absolute_error: 0.3724\n",
      "Epoch 32/60\n",
      "360/360 [==============================] - 0s 697us/step - loss: 0.3025 - mean_absolute_error: 0.3025 - val_loss: 0.3660 - val_mean_absolute_error: 0.3660\n",
      "Epoch 33/60\n",
      "360/360 [==============================] - 0s 711us/step - loss: 0.3043 - mean_absolute_error: 0.3043 - val_loss: 0.3651 - val_mean_absolute_error: 0.3651\n",
      "Epoch 34/60\n",
      "360/360 [==============================] - 0s 711us/step - loss: 0.3004 - mean_absolute_error: 0.3004 - val_loss: 0.3718 - val_mean_absolute_error: 0.3718\n",
      "Epoch 35/60\n",
      "360/360 [==============================] - 0s 711us/step - loss: 0.2996 - mean_absolute_error: 0.2996 - val_loss: 0.3638 - val_mean_absolute_error: 0.3638\n",
      "Epoch 36/60\n",
      "360/360 [==============================] - 0s 711us/step - loss: 0.2974 - mean_absolute_error: 0.2974 - val_loss: 0.3775 - val_mean_absolute_error: 0.3775\n",
      "Epoch 37/60\n",
      "360/360 [==============================] - 0s 714us/step - loss: 0.2968 - mean_absolute_error: 0.2968 - val_loss: 0.3692 - val_mean_absolute_error: 0.3692\n",
      "Epoch 38/60\n",
      "360/360 [==============================] - 0s 711us/step - loss: 0.2954 - mean_absolute_error: 0.2954 - val_loss: 0.3693 - val_mean_absolute_error: 0.3693\n",
      "Epoch 39/60\n",
      "360/360 [==============================] - 0s 711us/step - loss: 0.2916 - mean_absolute_error: 0.2916 - val_loss: 0.3649 - val_mean_absolute_error: 0.3649\n",
      "Epoch 40/60\n",
      "360/360 [==============================] - 0s 714us/step - loss: 0.2904 - mean_absolute_error: 0.2904 - val_loss: 0.3700 - val_mean_absolute_error: 0.3700\n",
      "Epoch 41/60\n",
      "360/360 [==============================] - 0s 719us/step - loss: 0.2874 - mean_absolute_error: 0.2874 - val_loss: 0.3735 - val_mean_absolute_error: 0.3735\n",
      "Epoch 42/60\n",
      "360/360 [==============================] - 0s 714us/step - loss: 0.2853 - mean_absolute_error: 0.2853 - val_loss: 0.3708 - val_mean_absolute_error: 0.3708\n",
      "Epoch 43/60\n",
      "360/360 [==============================] - 0s 717us/step - loss: 0.2869 - mean_absolute_error: 0.2869 - val_loss: 0.3663 - val_mean_absolute_error: 0.3663\n",
      "Epoch 44/60\n",
      "360/360 [==============================] - 0s 711us/step - loss: 0.2838 - mean_absolute_error: 0.2838 - val_loss: 0.3725 - val_mean_absolute_error: 0.3725\n",
      "Epoch 45/60\n",
      "360/360 [==============================] - 0s 719us/step - loss: 0.2821 - mean_absolute_error: 0.2821 - val_loss: 0.3788 - val_mean_absolute_error: 0.3788\n",
      "Epoch 46/60\n",
      "360/360 [==============================] - 0s 697us/step - loss: 0.2819 - mean_absolute_error: 0.2819 - val_loss: 0.3678 - val_mean_absolute_error: 0.3678\n",
      "Epoch 47/60\n",
      "360/360 [==============================] - 0s 706us/step - loss: 0.2779 - mean_absolute_error: 0.2779 - val_loss: 0.3707 - val_mean_absolute_error: 0.3707\n",
      "Epoch 48/60\n",
      "360/360 [==============================] - 0s 722us/step - loss: 0.2793 - mean_absolute_error: 0.2793 - val_loss: 0.3701 - val_mean_absolute_error: 0.3701\n",
      "Epoch 49/60\n",
      "360/360 [==============================] - 0s 722us/step - loss: 0.2773 - mean_absolute_error: 0.2773 - val_loss: 0.3737 - val_mean_absolute_error: 0.3737\n",
      "Epoch 50/60\n"
     ]
    },
    {
     "name": "stdout",
     "output_type": "stream",
     "text": [
      "360/360 [==============================] - 0s 706us/step - loss: 0.2741 - mean_absolute_error: 0.2741 - val_loss: 0.3767 - val_mean_absolute_error: 0.3767\n",
      "Epoch 51/60\n",
      "360/360 [==============================] - 0s 703us/step - loss: 0.2727 - mean_absolute_error: 0.2727 - val_loss: 0.3850 - val_mean_absolute_error: 0.3850\n",
      "Epoch 52/60\n",
      "360/360 [==============================] - 0s 720us/step - loss: 0.2725 - mean_absolute_error: 0.2725 - val_loss: 0.3790 - val_mean_absolute_error: 0.3790\n",
      "Epoch 53/60\n",
      "360/360 [==============================] - 0s 719us/step - loss: 0.2697 - mean_absolute_error: 0.2697 - val_loss: 0.3796 - val_mean_absolute_error: 0.3796\n",
      "Epoch 54/60\n",
      "360/360 [==============================] - 0s 703us/step - loss: 0.2680 - mean_absolute_error: 0.2680 - val_loss: 0.3815 - val_mean_absolute_error: 0.3815\n",
      "Epoch 55/60\n",
      "360/360 [==============================] - 0s 714us/step - loss: 0.2673 - mean_absolute_error: 0.2673 - val_loss: 0.3767 - val_mean_absolute_error: 0.3767\n",
      "Epoch 56/60\n",
      "360/360 [==============================] - 0s 703us/step - loss: 0.2654 - mean_absolute_error: 0.2654 - val_loss: 0.3803 - val_mean_absolute_error: 0.3803\n",
      "Epoch 57/60\n",
      "360/360 [==============================] - 0s 733us/step - loss: 0.2641 - mean_absolute_error: 0.2641 - val_loss: 0.3860 - val_mean_absolute_error: 0.3860\n",
      "Epoch 58/60\n",
      "360/360 [==============================] - 0s 703us/step - loss: 0.2640 - mean_absolute_error: 0.2640 - val_loss: 0.3722 - val_mean_absolute_error: 0.3722\n",
      "Epoch 59/60\n",
      "360/360 [==============================] - 0s 703us/step - loss: 0.2608 - mean_absolute_error: 0.2608 - val_loss: 0.3817 - val_mean_absolute_error: 0.3817\n",
      "Epoch 60/60\n",
      "360/360 [==============================] - 0s 714us/step - loss: 0.2600 - mean_absolute_error: 0.2600 - val_loss: 0.3902 - val_mean_absolute_error: 0.3902\n"
     ]
    }
   ],
   "source": [
    "history = model.fit(X_train, y_train,\n",
    "               epochs=60,\n",
    "                validation_data=(X_test, y_test)\n",
    "        )"
   ]
  },
  {
   "cell_type": "code",
   "execution_count": 38,
   "metadata": {},
   "outputs": [
    {
     "data": {
      "image/png": "[encoded data removed]",
      "text/plain": [
       "<Figure size 432x288 with 1 Axes>"
      ]
     },
     "metadata": {
      "needs_background": "light"
     },
     "output_type": "display_data"
    }
   ],
   "source": [
    "import matplotlib.pyplot as plt\n",
    "\n",
    "pd.DataFrame(history.history).plot()\n",
    "plt.grid(True)\n",
    "plt.gca().set_ylim(0, 1)\n",
    "plt.show()"
   ]
  },
  {
   "cell_type": "code",
   "execution_count": 42,
   "metadata": {},
   "outputs": [
    {
     "ename": "ValueError",
     "evalue": "arrays must all be same length",
     "output_type": "error",
     "traceback": [
      "\u001b[1;31m---------------------------------------------------------------------------\u001b[0m",
      "\u001b[1;31mValueError\u001b[0m                                Traceback (most recent call last)",
      "\u001b[1;32m<ipython-input-42-8e31ca8aa557>\u001b[0m in \u001b[0;36m<module>\u001b[1;34m\u001b[0m\n\u001b[0;32m      1\u001b[0m \u001b[1;32mimport\u001b[0m \u001b[0mseaborn\u001b[0m \u001b[1;32mas\u001b[0m \u001b[0msns\u001b[0m\u001b[1;33m\u001b[0m\u001b[1;33m\u001b[0m\u001b[0m\n\u001b[0;32m      2\u001b[0m \u001b[1;33m\u001b[0m\u001b[0m\n\u001b[1;32m----> 3\u001b[1;33m \u001b[0msns\u001b[0m\u001b[1;33m.\u001b[0m\u001b[0mlineplot\u001b[0m\u001b[1;33m(\u001b[0m\u001b[0mx\u001b[0m\u001b[1;33m=\u001b[0m\u001b[0mrange\u001b[0m\u001b[1;33m(\u001b[0m\u001b[0mlen\u001b[0m\u001b[1;33m(\u001b[0m\u001b[0mX\u001b[0m\u001b[1;33m)\u001b[0m\u001b[1;33m)\u001b[0m\u001b[1;33m,\u001b[0m \u001b[0my\u001b[0m\u001b[1;33m=\u001b[0m\u001b[0mX\u001b[0m\u001b[1;33m.\u001b[0m\u001b[0mreshape\u001b[0m\u001b[1;33m(\u001b[0m\u001b[1;33m-\u001b[0m\u001b[1;36m1\u001b[0m\u001b[1;33m)\u001b[0m\u001b[1;33m,\u001b[0m \u001b[0mdata\u001b[0m\u001b[1;33m=\u001b[0m\u001b[0mdata\u001b[0m\u001b[1;33m)\u001b[0m\u001b[1;33m\u001b[0m\u001b[1;33m\u001b[0m\u001b[0m\n\u001b[0m",
      "\u001b[1;32mZ:\\anaconda\\lib\\site-packages\\seaborn\\relational.py\u001b[0m in \u001b[0;36mlineplot\u001b[1;34m(x, y, hue, size, style, data, palette, hue_order, hue_norm, sizes, size_order, size_norm, dashes, markers, style_order, units, estimator, ci, n_boot, seed, sort, err_style, err_kws, legend, ax, **kwargs)\u001b[0m\n\u001b[0;32m   1129\u001b[0m         \u001b[0mdashes\u001b[0m\u001b[1;33m=\u001b[0m\u001b[0mdashes\u001b[0m\u001b[1;33m,\u001b[0m \u001b[0mmarkers\u001b[0m\u001b[1;33m=\u001b[0m\u001b[0mmarkers\u001b[0m\u001b[1;33m,\u001b[0m \u001b[0mstyle_order\u001b[0m\u001b[1;33m=\u001b[0m\u001b[0mstyle_order\u001b[0m\u001b[1;33m,\u001b[0m\u001b[1;33m\u001b[0m\u001b[1;33m\u001b[0m\u001b[0m\n\u001b[0;32m   1130\u001b[0m         \u001b[0munits\u001b[0m\u001b[1;33m=\u001b[0m\u001b[0munits\u001b[0m\u001b[1;33m,\u001b[0m \u001b[0mestimator\u001b[0m\u001b[1;33m=\u001b[0m\u001b[0mestimator\u001b[0m\u001b[1;33m,\u001b[0m \u001b[0mci\u001b[0m\u001b[1;33m=\u001b[0m\u001b[0mci\u001b[0m\u001b[1;33m,\u001b[0m \u001b[0mn_boot\u001b[0m\u001b[1;33m=\u001b[0m\u001b[0mn_boot\u001b[0m\u001b[1;33m,\u001b[0m \u001b[0mseed\u001b[0m\u001b[1;33m=\u001b[0m\u001b[0mseed\u001b[0m\u001b[1;33m,\u001b[0m\u001b[1;33m\u001b[0m\u001b[1;33m\u001b[0m\u001b[0m\n\u001b[1;32m-> 1131\u001b[1;33m         \u001b[0msort\u001b[0m\u001b[1;33m=\u001b[0m\u001b[0msort\u001b[0m\u001b[1;33m,\u001b[0m \u001b[0merr_style\u001b[0m\u001b[1;33m=\u001b[0m\u001b[0merr_style\u001b[0m\u001b[1;33m,\u001b[0m \u001b[0merr_kws\u001b[0m\u001b[1;33m=\u001b[0m\u001b[0merr_kws\u001b[0m\u001b[1;33m,\u001b[0m \u001b[0mlegend\u001b[0m\u001b[1;33m=\u001b[0m\u001b[0mlegend\u001b[0m\u001b[1;33m,\u001b[0m\u001b[1;33m\u001b[0m\u001b[1;33m\u001b[0m\u001b[0m\n\u001b[0m\u001b[0;32m   1132\u001b[0m     )\n\u001b[0;32m   1133\u001b[0m \u001b[1;33m\u001b[0m\u001b[0m\n",
      "\u001b[1;32mZ:\\anaconda\\lib\\site-packages\\seaborn\\relational.py\u001b[0m in \u001b[0;36m__init__\u001b[1;34m(self, x, y, hue, size, style, data, palette, hue_order, hue_norm, sizes, size_order, size_norm, dashes, markers, style_order, units, estimator, ci, n_boot, seed, sort, err_style, err_kws, legend)\u001b[0m\n\u001b[0;32m    698\u001b[0m \u001b[1;33m\u001b[0m\u001b[0m\n\u001b[0;32m    699\u001b[0m         plot_data = self.establish_variables(\n\u001b[1;32m--> 700\u001b[1;33m             \u001b[0mx\u001b[0m\u001b[1;33m,\u001b[0m \u001b[0my\u001b[0m\u001b[1;33m,\u001b[0m \u001b[0mhue\u001b[0m\u001b[1;33m,\u001b[0m \u001b[0msize\u001b[0m\u001b[1;33m,\u001b[0m \u001b[0mstyle\u001b[0m\u001b[1;33m,\u001b[0m \u001b[0munits\u001b[0m\u001b[1;33m,\u001b[0m \u001b[0mdata\u001b[0m\u001b[1;33m\u001b[0m\u001b[1;33m\u001b[0m\u001b[0m\n\u001b[0m\u001b[0;32m    701\u001b[0m         )\n\u001b[0;32m    702\u001b[0m \u001b[1;33m\u001b[0m\u001b[0m\n",
      "\u001b[1;32mZ:\\anaconda\\lib\\site-packages\\seaborn\\relational.py\u001b[0m in \u001b[0;36mestablish_variables\u001b[1;34m(self, x, y, hue, size, style, units, data)\u001b[0m\n\u001b[0;32m    155\u001b[0m                 \u001b[0munits\u001b[0m\u001b[1;33m=\u001b[0m\u001b[0munits\u001b[0m\u001b[1;33m\u001b[0m\u001b[1;33m\u001b[0m\u001b[0m\n\u001b[0;32m    156\u001b[0m             )\n\u001b[1;32m--> 157\u001b[1;33m             \u001b[0mplot_data\u001b[0m \u001b[1;33m=\u001b[0m \u001b[0mpd\u001b[0m\u001b[1;33m.\u001b[0m\u001b[0mDataFrame\u001b[0m\u001b[1;33m(\u001b[0m\u001b[0mplot_data\u001b[0m\u001b[1;33m)\u001b[0m\u001b[1;33m\u001b[0m\u001b[1;33m\u001b[0m\u001b[0m\n\u001b[0m\u001b[0;32m    158\u001b[0m \u001b[1;33m\u001b[0m\u001b[0m\n\u001b[0;32m    159\u001b[0m         \u001b[1;31m# Option 3:\u001b[0m\u001b[1;33m\u001b[0m\u001b[1;33m\u001b[0m\u001b[1;33m\u001b[0m\u001b[0m\n",
      "\u001b[1;32mZ:\\anaconda\\lib\\site-packages\\pandas\\core\\frame.py\u001b[0m in \u001b[0;36m__init__\u001b[1;34m(self, data, index, columns, dtype, copy)\u001b[0m\n\u001b[0;32m    433\u001b[0m             )\n\u001b[0;32m    434\u001b[0m         \u001b[1;32melif\u001b[0m \u001b[0misinstance\u001b[0m\u001b[1;33m(\u001b[0m\u001b[0mdata\u001b[0m\u001b[1;33m,\u001b[0m \u001b[0mdict\u001b[0m\u001b[1;33m)\u001b[0m\u001b[1;33m:\u001b[0m\u001b[1;33m\u001b[0m\u001b[1;33m\u001b[0m\u001b[0m\n\u001b[1;32m--> 435\u001b[1;33m             \u001b[0mmgr\u001b[0m \u001b[1;33m=\u001b[0m \u001b[0minit_dict\u001b[0m\u001b[1;33m(\u001b[0m\u001b[0mdata\u001b[0m\u001b[1;33m,\u001b[0m \u001b[0mindex\u001b[0m\u001b[1;33m,\u001b[0m \u001b[0mcolumns\u001b[0m\u001b[1;33m,\u001b[0m \u001b[0mdtype\u001b[0m\u001b[1;33m=\u001b[0m\u001b[0mdtype\u001b[0m\u001b[1;33m)\u001b[0m\u001b[1;33m\u001b[0m\u001b[1;33m\u001b[0m\u001b[0m\n\u001b[0m\u001b[0;32m    436\u001b[0m         \u001b[1;32melif\u001b[0m \u001b[0misinstance\u001b[0m\u001b[1;33m(\u001b[0m\u001b[0mdata\u001b[0m\u001b[1;33m,\u001b[0m \u001b[0mma\u001b[0m\u001b[1;33m.\u001b[0m\u001b[0mMaskedArray\u001b[0m\u001b[1;33m)\u001b[0m\u001b[1;33m:\u001b[0m\u001b[1;33m\u001b[0m\u001b[1;33m\u001b[0m\u001b[0m\n\u001b[0;32m    437\u001b[0m             \u001b[1;32mimport\u001b[0m \u001b[0mnumpy\u001b[0m\u001b[1;33m.\u001b[0m\u001b[0mma\u001b[0m\u001b[1;33m.\u001b[0m\u001b[0mmrecords\u001b[0m \u001b[1;32mas\u001b[0m \u001b[0mmrecords\u001b[0m\u001b[1;33m\u001b[0m\u001b[1;33m\u001b[0m\u001b[0m\n",
      "\u001b[1;32mZ:\\anaconda\\lib\\site-packages\\pandas\\core\\internals\\construction.py\u001b[0m in \u001b[0;36minit_dict\u001b[1;34m(data, index, columns, dtype)\u001b[0m\n\u001b[0;32m    252\u001b[0m             \u001b[0marr\u001b[0m \u001b[1;32mif\u001b[0m \u001b[1;32mnot\u001b[0m \u001b[0mis_datetime64tz_dtype\u001b[0m\u001b[1;33m(\u001b[0m\u001b[0marr\u001b[0m\u001b[1;33m)\u001b[0m \u001b[1;32melse\u001b[0m \u001b[0marr\u001b[0m\u001b[1;33m.\u001b[0m\u001b[0mcopy\u001b[0m\u001b[1;33m(\u001b[0m\u001b[1;33m)\u001b[0m \u001b[1;32mfor\u001b[0m \u001b[0marr\u001b[0m \u001b[1;32min\u001b[0m \u001b[0marrays\u001b[0m\u001b[1;33m\u001b[0m\u001b[1;33m\u001b[0m\u001b[0m\n\u001b[0;32m    253\u001b[0m         ]\n\u001b[1;32m--> 254\u001b[1;33m     \u001b[1;32mreturn\u001b[0m \u001b[0marrays_to_mgr\u001b[0m\u001b[1;33m(\u001b[0m\u001b[0marrays\u001b[0m\u001b[1;33m,\u001b[0m \u001b[0mdata_names\u001b[0m\u001b[1;33m,\u001b[0m \u001b[0mindex\u001b[0m\u001b[1;33m,\u001b[0m \u001b[0mcolumns\u001b[0m\u001b[1;33m,\u001b[0m \u001b[0mdtype\u001b[0m\u001b[1;33m=\u001b[0m\u001b[0mdtype\u001b[0m\u001b[1;33m)\u001b[0m\u001b[1;33m\u001b[0m\u001b[1;33m\u001b[0m\u001b[0m\n\u001b[0m\u001b[0;32m    255\u001b[0m \u001b[1;33m\u001b[0m\u001b[0m\n\u001b[0;32m    256\u001b[0m \u001b[1;33m\u001b[0m\u001b[0m\n",
      "\u001b[1;32mZ:\\anaconda\\lib\\site-packages\\pandas\\core\\internals\\construction.py\u001b[0m in \u001b[0;36marrays_to_mgr\u001b[1;34m(arrays, arr_names, index, columns, dtype)\u001b[0m\n\u001b[0;32m     62\u001b[0m     \u001b[1;31m# figure out the index, if necessary\u001b[0m\u001b[1;33m\u001b[0m\u001b[1;33m\u001b[0m\u001b[1;33m\u001b[0m\u001b[0m\n\u001b[0;32m     63\u001b[0m     \u001b[1;32mif\u001b[0m \u001b[0mindex\u001b[0m \u001b[1;32mis\u001b[0m \u001b[1;32mNone\u001b[0m\u001b[1;33m:\u001b[0m\u001b[1;33m\u001b[0m\u001b[1;33m\u001b[0m\u001b[0m\n\u001b[1;32m---> 64\u001b[1;33m         \u001b[0mindex\u001b[0m \u001b[1;33m=\u001b[0m \u001b[0mextract_index\u001b[0m\u001b[1;33m(\u001b[0m\u001b[0marrays\u001b[0m\u001b[1;33m)\u001b[0m\u001b[1;33m\u001b[0m\u001b[1;33m\u001b[0m\u001b[0m\n\u001b[0m\u001b[0;32m     65\u001b[0m     \u001b[1;32melse\u001b[0m\u001b[1;33m:\u001b[0m\u001b[1;33m\u001b[0m\u001b[1;33m\u001b[0m\u001b[0m\n\u001b[0;32m     66\u001b[0m         \u001b[0mindex\u001b[0m \u001b[1;33m=\u001b[0m \u001b[0mensure_index\u001b[0m\u001b[1;33m(\u001b[0m\u001b[0mindex\u001b[0m\u001b[1;33m)\u001b[0m\u001b[1;33m\u001b[0m\u001b[1;33m\u001b[0m\u001b[0m\n",
      "\u001b[1;32mZ:\\anaconda\\lib\\site-packages\\pandas\\core\\internals\\construction.py\u001b[0m in \u001b[0;36mextract_index\u001b[1;34m(data)\u001b[0m\n\u001b[0;32m    363\u001b[0m             \u001b[0mlengths\u001b[0m \u001b[1;33m=\u001b[0m \u001b[0mlist\u001b[0m\u001b[1;33m(\u001b[0m\u001b[0mset\u001b[0m\u001b[1;33m(\u001b[0m\u001b[0mraw_lengths\u001b[0m\u001b[1;33m)\u001b[0m\u001b[1;33m)\u001b[0m\u001b[1;33m\u001b[0m\u001b[1;33m\u001b[0m\u001b[0m\n\u001b[0;32m    364\u001b[0m             \u001b[1;32mif\u001b[0m \u001b[0mlen\u001b[0m\u001b[1;33m(\u001b[0m\u001b[0mlengths\u001b[0m\u001b[1;33m)\u001b[0m \u001b[1;33m>\u001b[0m \u001b[1;36m1\u001b[0m\u001b[1;33m:\u001b[0m\u001b[1;33m\u001b[0m\u001b[1;33m\u001b[0m\u001b[0m\n\u001b[1;32m--> 365\u001b[1;33m                 \u001b[1;32mraise\u001b[0m \u001b[0mValueError\u001b[0m\u001b[1;33m(\u001b[0m\u001b[1;34m\"arrays must all be same length\"\u001b[0m\u001b[1;33m)\u001b[0m\u001b[1;33m\u001b[0m\u001b[1;33m\u001b[0m\u001b[0m\n\u001b[0m\u001b[0;32m    366\u001b[0m \u001b[1;33m\u001b[0m\u001b[0m\n\u001b[0;32m    367\u001b[0m             \u001b[1;32mif\u001b[0m \u001b[0mhave_dicts\u001b[0m\u001b[1;33m:\u001b[0m\u001b[1;33m\u001b[0m\u001b[1;33m\u001b[0m\u001b[0m\n",
      "\u001b[1;31mValueError\u001b[0m: arrays must all be same length"
     ]
    }
   ],
   "source": [
    "import seaborn as sns\n",
    "\n",
    "sns.lineplot(x=range(len(X)), y=X.reshape(-1), data=data)"
   ]
  },
  {
   "cell_type": "code",
   "execution_count": null,
   "metadata": {},
   "outputs": [],
   "source": []
  },
  {
   "cell_type": "code",
   "execution_count": null,
   "metadata": {},
   "outputs": [],
   "source": []
  }
 ],
 "metadata": {
  "kernelspec": {
   "display_name": "Python 3",
   "language": "python",
   "name": "python3"
  },
  "language_info": {
   "codemirror_mode": {
    "name": "ipython",
    "version": 3
   },
   "file_extension": ".py",
   "mimetype": "text/x-python",
   "name": "python",
   "nbconvert_exporter": "python",
   "pygments_lexer": "ipython3",
   "version": "3.7.6"
  }
 },
 "nbformat": 4,
 "nbformat_minor": 4
}

{
 "cells": [
  {
   "cell_type": "code",
   "execution_count": 1,
   "metadata": {},
   "outputs": [
    {
     "name": "stdout",
     "output_type": "stream",
     "text": [
      "2020-07-20.csv\n",
      "2020-07-21.csv\n",
      "2020-07-22.csv\n",
      "2020-07-23.csv\n",
      "2020-07-24.csv\n",
      "2020-07-25.csv\n",
      "2020-07-26.csv\n",
      "2020-07-27.csv\n",
      "2020-07-28.csv\n",
      "2020-07-29.csv\n"
     ]
    }
   ],
   "source": [
    "import pandas as pd\n",
    "import numpy as np\n",
    "import os\n",
    "\n",
    "headers = ['Timestamp', 'Open', 'High', 'Low', 'Close', 'Volume(BTC)', 'Volume(Currency)', 'WeightedPrice']\n",
    "data = pd.DataFrame(columns=headers)\n",
    "\n",
    "for filename in os.listdir('../datasets/bitcoin-1'):\n",
    "    data = pd.concat([data, pd.read_csv(f'../datasets/bitcoin-1/{filename}', index_col=False)])\n",
    "    print(filename)\n",
    "    \n",
    "data['Change'] = data['Open'] - data['Close']\n",
    "data['PerChange'] = (data['Open'] - data['Close'])/data['WeightedPrice']"
   ]
  },
  {
   "cell_type": "code",
   "execution_count": 49,
   "metadata": {},
   "outputs": [],
   "source": [
    "changes = np.round(np.array(data['PerChange']), 5)\n",
    "\n",
    "def split_sequence(seq, n_steps_in, n_steps_out):\n",
    "    \"\"\"\n",
    "    Splits the univariate time sequence\n",
    "    \"\"\"\n",
    "    X, y = [], []\n",
    "    \n",
    "    for i in range(len(seq)):\n",
    "        end = i + n_steps_in\n",
    "        out_end = end + n_steps_out\n",
    "        \n",
    "        if out_end > len(seq):\n",
    "            break\n",
    "        \n",
    "        seq_x, seq_y = seq[i:end], seq[end:out_end]\n",
    "        \n",
    "        X.append(seq_x)\n",
    "        y.append(seq_y)\n",
    "    \n",
    "    return np.array(X), np.array(y)\n",
    "\n",
    "IN = 5\n",
    "OUT = 1\n",
    "\n",
    "X, y = split_sequence(changes, IN, OUT)"
   ]
  },
  {
   "cell_type": "code",
   "execution_count": 55,
   "metadata": {},
   "outputs": [],
   "source": [
    "pX = X[1:]\n",
    "pY = y[1:]"
   ]
  },
  {
   "cell_type": "code",
   "execution_count": 64,
   "metadata": {},
   "outputs": [],
   "source": [
    "new = [X[0] * -1 for x in range(len(pX))]"
   ]
  },
  {
   "cell_type": "code",
   "execution_count": 79,
   "metadata": {},
   "outputs": [
    {
     "data": {
      "text/plain": [
       "count    14373.000000\n",
       "mean         0.000185\n",
       "std          0.001598\n",
       "min         -0.031170\n",
       "25%         -0.000080\n",
       "50%          0.000250\n",
       "75%          0.000490\n",
       "max          0.032840\n",
       "dtype: float64"
      ]
     },
     "execution_count": 79,
     "metadata": {},
     "output_type": "execute_result"
    }
   ],
   "source": [
    "summed = np.sum(pX + new, axis=1)\n",
    "pd.Series(summed)"
   ]
  },
  {
   "cell_type": "code",
   "execution_count": 84,
   "metadata": {},
   "outputs": [
    {
     "data": {
      "text/plain": [
       "array([-0.00015])"
      ]
     },
     "execution_count": 84,
     "metadata": {},
     "output_type": "execute_result"
    }
   ],
   "source": [
    "sum(pY[summed == 0])"
   ]
  },
  {
   "cell_type": "code",
   "execution_count": 144,
   "metadata": {},
   "outputs": [],
   "source": [
    "def find_similar(X, y):\n",
    "    \n",
    "    sims = {}\n",
    "    \n",
    "    for i in range(int(len(X)/10)):\n",
    "        \n",
    "        pX = np.delete(X, i, axis=0)\n",
    "        pY = np.delete(y, i, axis=0)\n",
    "                   \n",
    "        new = [X[i] * -1 for x in range(len(pX))]\n",
    "\n",
    "        summed = np.sum(pX + new, axis=1)\n",
    "        \n",
    "        if len(pY[summed == 0]) > 0:\n",
    "                   \n",
    "            sims.update({i: ((sum(pY[summed == 0]) + y[i])/len(pY[summed == 0]), len(pY[summed == 0]))}) \n",
    "            \n",
    "            \n",
    "        if i % 100 is 0:\n",
    "            print(i)\n",
    "            \n",
    "    return sims\n",
    "                   "
   ]
  },
  {
   "cell_type": "code",
   "execution_count": 145,
   "metadata": {},
   "outputs": [
    {
     "name": "stdout",
     "output_type": "stream",
     "text": [
      "0\n",
      "100\n",
      "200\n",
      "300\n",
      "400\n",
      "500\n",
      "600\n",
      "700\n",
      "800\n",
      "900\n",
      "1000\n",
      "1100\n",
      "1200\n",
      "1300\n",
      "1400\n"
     ]
    }
   ],
   "source": [
    "s = find_similar(X, y)"
   ]
  },
  {
   "cell_type": "code",
   "execution_count": 151,
   "metadata": {},
   "outputs": [],
   "source": [
    "vals = [s[0][0] for s in s.values()]\n",
    "nums = [s[1] for s in s.values()]"
   ]
  },
  {
   "cell_type": "code",
   "execution_count": 152,
   "metadata": {},
   "outputs": [
    {
     "data": {
      "text/plain": [
       "count    1429.000000\n",
       "mean       -0.000003\n",
       "std         0.000114\n",
       "min        -0.001203\n",
       "25%        -0.000021\n",
       "50%        -0.000001\n",
       "75%         0.000009\n",
       "max         0.001350\n",
       "dtype: float64"
      ]
     },
     "execution_count": 152,
     "metadata": {},
     "output_type": "execute_result"
    }
   ],
   "source": [
    "pd.Series(vals).describe()"
   ]
  },
  {
   "cell_type": "code",
   "execution_count": 153,
   "metadata": {},
   "outputs": [
    {
     "data": {
      "text/plain": [
       "count    1429.000000\n",
       "mean      297.123163\n",
       "std       386.710186\n",
       "min         1.000000\n",
       "25%        15.000000\n",
       "50%        44.000000\n",
       "75%       606.000000\n",
       "max      1034.000000\n",
       "dtype: float64"
      ]
     },
     "execution_count": 153,
     "metadata": {},
     "output_type": "execute_result"
    }
   ],
   "source": [
    "pd.Series(nums).describe()"
   ]
  },
  {
   "cell_type": "code",
   "execution_count": 156,
   "metadata": {},
   "outputs": [
    {
     "data": {
      "text/plain": [
       "<matplotlib.axes._subplots.AxesSubplot at 0x16797e45688>"
      ]
     },
     "execution_count": 156,
     "metadata": {},
     "output_type": "execute_result"
    },
    {
     "data": {
      "image/png": "[encoded data removed]",
      "text/plain": [
       "<Figure size 432x288 with 1 Axes>"
      ]
     },
     "metadata": {
      "needs_background": "light"
     },
     "output_type": "display_data"
    }
   ],
   "source": [
    "import matplotlib.pyplot as plt\n",
    "plt.ylim(-0.003, 0.003)\n",
    "sns.scatterplot(x=nums, y=vals)"
   ]
  },
  {
   "cell_type": "code",
   "execution_count": 163,
   "metadata": {},
   "outputs": [],
   "source": [
    "from sklearn.ensemble import RandomForestRegressor\n",
    "from sklearn.model_selection import train_test_split\n",
    "from sklearn.metrics import mean_squared_error\n",
    "\n",
    "X_train, X_test, y_train, y_test = train_test_split(X, y.reshape(-1), test_size=0.2)\n",
    "rf = RandomForestRegressor().fit(X_train, y_train)"
   ]
  },
  {
   "cell_type": "code",
   "execution_count": 164,
   "metadata": {},
   "outputs": [
    {
     "data": {
      "text/plain": [
       "1.47848306924072e-07"
      ]
     },
     "execution_count": 164,
     "metadata": {},
     "output_type": "execute_result"
    }
   ],
   "source": [
    "prds = rf.predict(X_train)\n",
    "mean_squared_error(y_train, prds)"
   ]
  },
  {
   "cell_type": "code",
   "execution_count": 165,
   "metadata": {},
   "outputs": [
    {
     "data": {
      "text/plain": [
       "4.208388960334716e-07"
      ]
     },
     "execution_count": 165,
     "metadata": {},
     "output_type": "execute_result"
    }
   ],
   "source": [
    "prds = rf.predict(X_test)\n",
    "mean_squared_error(y_test, prds)"
   ]
  },
  {
   "cell_type": "code",
   "execution_count": 166,
   "metadata": {},
   "outputs": [
    {
     "data": {
      "text/plain": [
       "array([[ 1.0e-04],\n",
       "       [ 0.0e+00],\n",
       "       [ 0.0e+00],\n",
       "       ...,\n",
       "       [-1.0e-05],\n",
       "       [ 2.0e-04],\n",
       "       [-8.2e-04]])"
      ]
     },
     "execution_count": 166,
     "metadata": {},
     "output_type": "execute_result"
    }
   ],
   "source": [
    "y"
   ]
  },
  {
   "cell_type": "code",
   "execution_count": null,
   "metadata": {},
   "outputs": [],
   "source": []
  }
 ],
 "metadata": {
  "kernelspec": {
   "display_name": "Python 3",
   "language": "python",
   "name": "python3"
  },
  "language_info": {
   "codemirror_mode": {
    "name": "ipython",
    "version": 3
   },
   "file_extension": ".py",
   "mimetype": "text/x-python",
   "name": "python",
   "nbconvert_exporter": "python",
   "pygments_lexer": "ipython3",
   "version": "3.7.6"
  }
 },
 "nbformat": 4,
 "nbformat_minor": 4
}
